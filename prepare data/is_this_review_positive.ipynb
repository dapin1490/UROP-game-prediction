{
  "nbformat": 4,
  "nbformat_minor": 0,
  "metadata": {
    "colab": {
      "name": "[UROP] is this review positive.ipynb",
      "provenance": [],
      "collapsed_sections": [],
      "toc_visible": true,
      "mount_file_id": "1_w0kJIgWAnAMybCrmfRm0meDNxAvxn0z",
      "authorship_tag": "ABX9TyO+SHflkEsBrlxwKl/i6vVu",
      "include_colab_link": true
    },
    "kernelspec": {
      "name": "python3",
      "display_name": "Python 3"
    },
    "language_info": {
      "name": "python"
    }
  },
  "cells": [
    {
      "cell_type": "markdown",
      "metadata": {
        "id": "view-in-github",
        "colab_type": "text"
      },
      "source": [
        "<a href=\"https://colab.research.google.com/github/dapin1490/UROP-game-prediction/blob/main/prepare%20data/is_this_review_positive.ipynb\" target=\"_parent\"><img src=\"https://colab.research.google.com/assets/colab-badge.svg\" alt=\"Open In Colab\"/></a>"
      ]
    },
    {
      "cell_type": "markdown",
      "source": [
        "## 참고 자료   \n",
        "---\n",
        "reference : [8) BiLSTM으로 한국어 스팀 리뷰 감성 분류하기](https://wikidocs.net/94748)   \n",
        "참고 : [Google-Colab에서-Mecab-koMecab-ko-dic-쉽게-사용하기](https://somjang.tistory.com/entry/Google-Colab%EC%97%90%EC%84%9C-Mecab-koMecab-ko-dic-%EC%89%BD%EA%B2%8C-%EC%82%AC%EC%9A%A9%ED%95%98%EA%B8%B0)   \n",
        "참고 2 : [구글 코랩(Google Colab)에서 Mecab 형태소 분석기, konlpy 쉽게 설치하기](https://teddylee777.github.io/colab/colab-mecab)   \n",
        "참고 3 : [Google Colaboratory 사용법](https://velog.io/@s6820w/colab1)"
      ],
      "metadata": {
        "id": "H7eR5F18sNse"
      }
    },
    {
      "cell_type": "markdown",
      "source": [
        "---\n",
        "## Colab에 Mecab 설치\n",
        "---"
      ],
      "metadata": {
        "id": "5Cf2sak7lFN3"
      }
    },
    {
      "cell_type": "code",
      "source": [
        "# 어텐션 라이브러리 설치\n",
        "!pip install attention\n",
        "\n",
        "# Colab에 Mecab 설치\n",
        "!git clone https://github.com/SOMJANG/Mecab-ko-for-Google-Colab.git\n",
        "%cd Mecab-ko-for-Google-Colab\n",
        "!bash install_mecab-ko_on_colab190912.sh"
      ],
      "metadata": {
        "collapsed": true,
        "id": "mHL4zXgNthPP"
      },
      "execution_count": null,
      "outputs": []
    },
    {
      "cell_type": "markdown",
      "source": [
        "---\n",
        "## 파일 경로 확인\n",
        "---"
      ],
      "metadata": {
        "id": "nHypJuIrlMGN"
      }
    },
    {
      "cell_type": "code",
      "execution_count": null,
      "metadata": {
        "colab": {
          "base_uri": "https://localhost:8080/"
        },
        "id": "tOHV_n7jmRRt",
        "outputId": "5297cabf-6692-4e0f-9a96-df838a9aa18d"
      },
      "outputs": [
        {
          "output_type": "stream",
          "name": "stdout",
          "text": [
            "/content/drive/MyDrive/Colab Notebooks/gameID.csv\n",
            "/content/drive/MyDrive/Colab Notebooks/gameWReview.csv\n",
            "/content/drive/MyDrive/Colab Notebooks/games.csv\n",
            "/content/drive/MyDrive/Colab Notebooks/steam_trainset.txt\n",
            "/content/drive/MyDrive/Colab Notebooks/processed_gameWReview.csv\n",
            "/content/drive/MyDrive/Colab Notebooks/steam_game_prediction.csv\n",
            "/content/drive/MyDrive/Colab Notebooks/[UROP] is this review positive.ipynb\n",
            "/content/drive/MyDrive/Colab Notebooks/model/steam_review_best_model_LSTM.hdf5\n",
            "/content/drive/MyDrive/Colab Notebooks/model/steam_review_best_model_BiLSTM.hdf5\n"
          ]
        }
      ],
      "source": [
        "import os\n",
        "\n",
        "for dirname, _, filenames in os.walk('/content/drive/MyDrive/Colab Notebooks'):\n",
        "    for filename in filenames:\n",
        "        print(os.path.join(dirname, filename))"
      ]
    },
    {
      "cell_type": "markdown",
      "source": [
        "---\n",
        "## 시드 설정, 파일 불러오기   \n",
        "---\n",
        "간단한 결측치 처리는 덤"
      ],
      "metadata": {
        "id": "QCNH5_4NlQhz"
      }
    },
    {
      "cell_type": "code",
      "source": [
        "import numpy as np\n",
        "import tensorflow as tf\n",
        "\n",
        "seed = 220711\n",
        "np.random.seed(seed)\n",
        "tf.random.set_seed(seed)\n",
        "\n",
        "print(\"Tensorflow Version\",tf.__version__)"
      ],
      "metadata": {
        "colab": {
          "base_uri": "https://localhost:8080/"
        },
        "id": "umKdWp2TpeMT",
        "outputId": "73395dd0-2da4-4dde-990e-9ad6e995059f"
      },
      "execution_count": null,
      "outputs": [
        {
          "output_type": "stream",
          "name": "stdout",
          "text": [
            "Tensorflow Version 2.8.2\n"
          ]
        }
      ]
    },
    {
      "cell_type": "code",
      "source": [
        "import pandas as pd\n",
        "\n",
        "sample_data = pd.read_table('/content/drive/MyDrive/Colab Notebooks/steam_trainset.txt', names=['label', 'reviews'])\n",
        "pred_data = pd.read_csv(\"/content/drive/MyDrive/Colab Notebooks/gameWReview.csv\")\n",
        "print(sample_data.info(), end=\"\\n\\n\")\n",
        "pred_data.info()"
      ],
      "metadata": {
        "colab": {
          "base_uri": "https://localhost:8080/"
        },
        "id": "Qton-8zwp_sh",
        "outputId": "52220132-ca06-4783-d770-d5cd7b09c14b"
      },
      "execution_count": null,
      "outputs": [
        {
          "output_type": "stream",
          "name": "stdout",
          "text": [
            "<class 'pandas.core.frame.DataFrame'>\n",
            "RangeIndex: 100000 entries, 0 to 99999\n",
            "Data columns (total 2 columns):\n",
            " #   Column   Non-Null Count   Dtype \n",
            "---  ------   --------------   ----- \n",
            " 0   label    100000 non-null  int64 \n",
            " 1   reviews  100000 non-null  object\n",
            "dtypes: int64(1), object(1)\n",
            "memory usage: 1.5+ MB\n",
            "None\n",
            "\n",
            "<class 'pandas.core.frame.DataFrame'>\n",
            "RangeIndex: 1000 entries, 0 to 999\n",
            "Data columns (total 22 columns):\n",
            " #   Column              Non-Null Count  Dtype  \n",
            "---  ------              --------------  -----  \n",
            " 0   Unnamed: 0          1000 non-null   int64  \n",
            " 1   appid               1000 non-null   int64  \n",
            " 2   releaseDate         491 non-null    object \n",
            " 3   price               480 non-null    float64\n",
            " 4   developer tier      502 non-null    float64\n",
            " 5   publisher tier      502 non-null    float64\n",
            " 6   genre               490 non-null    object \n",
            " 7   early access        502 non-null    float64\n",
            " 8   achievement         502 non-null    float64\n",
            " 9   tag                 501 non-null    object \n",
            " 10  languages           502 non-null    float64\n",
            " 11  steam award         502 non-null    float64\n",
            " 12  DLC                 502 non-null    float64\n",
            " 13  recent positive     363 non-null    object \n",
            " 14  all positive        147 non-null    object \n",
            " 15  single or multi     476 non-null    object \n",
            " 16  positive review     500 non-null    float64\n",
            " 17  negative review     500 non-null    float64\n",
            " 18  recent player       354 non-null    float64\n",
            " 19  peek player         354 non-null    float64\n",
            " 20  most achieved rate  335 non-null    float64\n",
            " 21  review              457 non-null    object \n",
            "dtypes: float64(13), int64(2), object(7)\n",
            "memory usage: 172.0+ KB\n"
          ]
        }
      ]
    },
    {
      "cell_type": "code",
      "source": [
        "pred_data = pred_data.dropna(subset=['releaseDate', 'price', 'positive review', 'negative review'])  # 필수로 있어야 하는 속성 기준으로 결측 샘플 삭제\n",
        "pred_data[\"releaseDate\"] = pd.to_datetime(pred_data[\"releaseDate\"])  # 날짜 형변환\n",
        "pred_data.to_csv(\"/content/drive/MyDrive/Colab Notebooks/processed_gameWReview.csv\")\n",
        "pred_data.info()"
      ],
      "metadata": {
        "colab": {
          "base_uri": "https://localhost:8080/"
        },
        "id": "JWELXjkKqZsf",
        "outputId": "d6d002d8-3187-4c8d-d19e-d3fbb26482b0"
      },
      "execution_count": null,
      "outputs": [
        {
          "output_type": "stream",
          "name": "stdout",
          "text": [
            "<class 'pandas.core.frame.DataFrame'>\n",
            "Int64Index: 474 entries, 0 to 515\n",
            "Data columns (total 22 columns):\n",
            " #   Column              Non-Null Count  Dtype         \n",
            "---  ------              --------------  -----         \n",
            " 0   Unnamed: 0          474 non-null    int64         \n",
            " 1   appid               474 non-null    int64         \n",
            " 2   releaseDate         474 non-null    datetime64[ns]\n",
            " 3   price               474 non-null    float64       \n",
            " 4   developer tier      474 non-null    float64       \n",
            " 5   publisher tier      474 non-null    float64       \n",
            " 6   genre               464 non-null    object        \n",
            " 7   early access        474 non-null    float64       \n",
            " 8   achievement         474 non-null    float64       \n",
            " 9   tag                 474 non-null    object        \n",
            " 10  languages           474 non-null    float64       \n",
            " 11  steam award         474 non-null    float64       \n",
            " 12  DLC                 474 non-null    float64       \n",
            " 13  recent positive     349 non-null    object        \n",
            " 14  all positive        138 non-null    object        \n",
            " 15  single or multi     452 non-null    object        \n",
            " 16  positive review     474 non-null    float64       \n",
            " 17  negative review     474 non-null    float64       \n",
            " 18  recent player       340 non-null    float64       \n",
            " 19  peek player         340 non-null    float64       \n",
            " 20  most achieved rate  325 non-null    float64       \n",
            " 21  review              426 non-null    object        \n",
            "dtypes: datetime64[ns](1), float64(13), int64(2), object(6)\n",
            "memory usage: 85.2+ KB\n"
          ]
        }
      ]
    },
    {
      "cell_type": "code",
      "source": [
        "print(pred_data[\"releaseDate\"].min())  # 날짜 오브젝트 속성 중 최솟값 출력\n",
        "print(pred_data[\"releaseDate\"].max())  # 날짜 오브젝트 속성 중 최댓값 출력"
      ],
      "metadata": {
        "colab": {
          "base_uri": "https://localhost:8080/"
        },
        "id": "HOZxM9_lqepy",
        "outputId": "a755dc6f-e6e1-40c4-ef6e-00ba653c75b7"
      },
      "execution_count": null,
      "outputs": [
        {
          "output_type": "stream",
          "name": "stdout",
          "text": [
            "1997-05-13 00:00:00\n",
            "2021-09-29 00:00:00\n"
          ]
        }
      ]
    },
    {
      "cell_type": "markdown",
      "source": [
        "### 프로젝트용 데이터에서 리뷰 데이터만 분리"
      ],
      "metadata": {
        "id": "jgBj99KVmDkf"
      }
    },
    {
      "cell_type": "code",
      "source": [
        "pred_data = pred_data[[\"appid\", \"review\"]]\n",
        "pred_data.info()"
      ],
      "metadata": {
        "colab": {
          "base_uri": "https://localhost:8080/"
        },
        "id": "5Cg2Go70qzTM",
        "outputId": "d2f5e968-c380-436e-d535-4b0421688eb4"
      },
      "execution_count": null,
      "outputs": [
        {
          "output_type": "stream",
          "name": "stdout",
          "text": [
            "<class 'pandas.core.frame.DataFrame'>\n",
            "Int64Index: 474 entries, 0 to 515\n",
            "Data columns (total 2 columns):\n",
            " #   Column  Non-Null Count  Dtype \n",
            "---  ------  --------------  ----- \n",
            " 0   appid   474 non-null    int64 \n",
            " 1   review  426 non-null    object\n",
            "dtypes: int64(1), object(1)\n",
            "memory usage: 11.1+ KB\n"
          ]
        }
      ]
    },
    {
      "cell_type": "markdown",
      "source": [
        "### 결측값 처리"
      ],
      "metadata": {
        "id": "LqFozC0TmNMj"
      }
    },
    {
      "cell_type": "code",
      "source": [
        "pred_data['review'] = pred_data['review'].fillna(\"내용없음\")\n",
        "pred_data.info()"
      ],
      "metadata": {
        "colab": {
          "base_uri": "https://localhost:8080/"
        },
        "id": "HNBwp_4Uq3sP",
        "outputId": "3d22d925-811b-46c1-d19a-0b9d0bb3d6d8"
      },
      "execution_count": null,
      "outputs": [
        {
          "output_type": "stream",
          "name": "stdout",
          "text": [
            "<class 'pandas.core.frame.DataFrame'>\n",
            "Int64Index: 474 entries, 0 to 515\n",
            "Data columns (total 2 columns):\n",
            " #   Column  Non-Null Count  Dtype \n",
            "---  ------  --------------  ----- \n",
            " 0   appid   474 non-null    int64 \n",
            " 1   review  474 non-null    object\n",
            "dtypes: int64(1), object(1)\n",
            "memory usage: 11.1+ KB\n"
          ]
        }
      ]
    },
    {
      "cell_type": "markdown",
      "source": [
        "---\n",
        "## 리뷰 데이터 전처리\n",
        "---"
      ],
      "metadata": {
        "id": "urjc2-Wdlo_Z"
      }
    },
    {
      "cell_type": "code",
      "source": [
        "# 중복 확인\n",
        "sample_data['reviews'].nunique(), sample_data['label'].nunique()"
      ],
      "metadata": {
        "colab": {
          "base_uri": "https://localhost:8080/"
        },
        "id": "wnHlruWSq7HC",
        "outputId": "0fea2a63-e85b-4db3-ca86-def0212719ef"
      },
      "execution_count": null,
      "outputs": [
        {
          "output_type": "execute_result",
          "data": {
            "text/plain": [
              "(99892, 2)"
            ]
          },
          "metadata": {},
          "execution_count": 162
        }
      ]
    },
    {
      "cell_type": "code",
      "source": [
        "# 중복 제거\n",
        "sample_data.drop_duplicates(subset=['reviews'], inplace=True) # reviews 열에서 중복인 내용이 있다면 중복 제거\n",
        "print('총 샘플의 수 :',len(sample_data))"
      ],
      "metadata": {
        "colab": {
          "base_uri": "https://localhost:8080/"
        },
        "id": "AKKLj7JnrG7E",
        "outputId": "842f40b3-4cd2-4cee-c5c8-71a9bcf06c46"
      },
      "execution_count": null,
      "outputs": [
        {
          "output_type": "stream",
          "name": "stdout",
          "text": [
            "총 샘플의 수 : 99892\n"
          ]
        }
      ]
    },
    {
      "cell_type": "code",
      "source": [
        "# 결측값 확인\n",
        "print(sample_data.isnull().values.any())"
      ],
      "metadata": {
        "colab": {
          "base_uri": "https://localhost:8080/"
        },
        "id": "xsGcRh1DrLlg",
        "outputId": "01c408e1-4217-4efe-c8b5-8344780c063b"
      },
      "execution_count": null,
      "outputs": [
        {
          "output_type": "stream",
          "name": "stdout",
          "text": [
            "False\n"
          ]
        }
      ]
    },
    {
      "cell_type": "markdown",
      "source": [
        "### 텍스트 정리   \n",
        "정규식으로 한글만 남기고 다 지움   \n",
        "처리 후 결측값 확인"
      ],
      "metadata": {
        "id": "UBcGpmH3mX4Y"
      }
    },
    {
      "cell_type": "code",
      "source": [
        "sample_data['reviews'] = sample_data['reviews'].str.replace(\"[^ㄱ-ㅎㅏ-ㅣ가-힣 ]\",\"\")\n",
        "sample_data['reviews'].replace('', \"내용없음\", inplace=True)\n",
        "print(sample_data.isnull().sum(), end=\"\\n\\n\")\n",
        "\n",
        "pred_data['review'] = pred_data['review'].str.replace(\"[^ㄱ-ㅎㅏ-ㅣ가-힣 ]\",\"\") # 정규 표현식 수행\n",
        "pred_data['review'].replace('', \"내용없음\", inplace=True) # 공백은 Null 값으로 변경\n",
        "print(pred_data.isnull().sum(), end=\"\\n\\n\")\n",
        "\n",
        "total = pd.DataFrame({\"review\": pd.concat([sample_data['reviews'], pred_data['review']], ignore_index=True)})\n",
        "total.info()"
      ],
      "metadata": {
        "colab": {
          "base_uri": "https://localhost:8080/"
        },
        "id": "I3FWwzmjrTuJ",
        "outputId": "12f9713f-f159-4c41-f33c-91f319e421aa"
      },
      "execution_count": null,
      "outputs": [
        {
          "output_type": "stream",
          "name": "stderr",
          "text": [
            "/usr/local/lib/python3.7/dist-packages/ipykernel_launcher.py:1: FutureWarning: The default value of regex will change from True to False in a future version.\n",
            "  \"\"\"Entry point for launching an IPython kernel.\n"
          ]
        },
        {
          "output_type": "stream",
          "name": "stdout",
          "text": [
            "label      0\n",
            "reviews    0\n",
            "dtype: int64\n",
            "\n",
            "appid     0\n",
            "review    0\n",
            "dtype: int64\n",
            "\n",
            "<class 'pandas.core.frame.DataFrame'>\n",
            "RangeIndex: 100366 entries, 0 to 100365\n",
            "Data columns (total 1 columns):\n",
            " #   Column  Non-Null Count   Dtype \n",
            "---  ------  --------------   ----- \n",
            " 0   review  100366 non-null  object\n",
            "dtypes: object(1)\n",
            "memory usage: 784.2+ KB\n"
          ]
        },
        {
          "output_type": "stream",
          "name": "stderr",
          "text": [
            "/usr/local/lib/python3.7/dist-packages/ipykernel_launcher.py:5: FutureWarning: The default value of regex will change from True to False in a future version.\n",
            "  \"\"\"\n"
          ]
        }
      ]
    },
    {
      "cell_type": "code",
      "source": [
        "# 불용어 정의\n",
        "stopwords = ['도', '는', '다', '의', '가', '이', '은', '한', '에', '하', '고', '을', '를', '인', '듯', '과', '와', '네', '들', '듯', '지', '임', '게', '만', '게임', '겜', '되', '음', '면']\n",
        "print(stopwords)"
      ],
      "metadata": {
        "colab": {
          "base_uri": "https://localhost:8080/"
        },
        "id": "HmhK5aLHrT7z",
        "outputId": "779de2ff-cf70-44b8-bc47-e0b48029d543"
      },
      "execution_count": null,
      "outputs": [
        {
          "output_type": "stream",
          "name": "stdout",
          "text": [
            "['도', '는', '다', '의', '가', '이', '은', '한', '에', '하', '고', '을', '를', '인', '듯', '과', '와', '네', '들', '듯', '지', '임', '게', '만', '게임', '겜', '되', '음', '면']\n"
          ]
        }
      ]
    },
    {
      "cell_type": "markdown",
      "source": [
        "### Mecab 형태소분석기"
      ],
      "metadata": {
        "id": "lH-Ix1zXmt5r"
      }
    },
    {
      "cell_type": "code",
      "source": [
        "from konlpy.tag import Mecab\n",
        "\n",
        "mecab = Mecab()\n",
        "\n",
        "sample_data['tokenized'] = sample_data['reviews'].apply(mecab.morphs)\n",
        "sample_data['tokenized'] = sample_data['tokenized'].apply(lambda x: [item for item in x if item not in stopwords])\n",
        "\n",
        "pred_data['tokenized'] = pred_data['review'].apply(mecab.morphs)\n",
        "pred_data['tokenized'] = pred_data['tokenized'].apply(lambda x: [item for item in x if item not in stopwords])\n",
        "\n",
        "total_token_review = pd.DataFrame({\"tokenized reviews\": pd.concat([sample_data['tokenized'], pred_data['tokenized']], ignore_index=True)})\n",
        "total_token_review.info()"
      ],
      "metadata": {
        "colab": {
          "base_uri": "https://localhost:8080/"
        },
        "id": "mmJ1atzXrUGq",
        "outputId": "e03f7833-4104-46fd-a589-e937d9471770"
      },
      "execution_count": null,
      "outputs": [
        {
          "output_type": "stream",
          "name": "stdout",
          "text": [
            "<class 'pandas.core.frame.DataFrame'>\n",
            "RangeIndex: 100366 entries, 0 to 100365\n",
            "Data columns (total 1 columns):\n",
            " #   Column             Non-Null Count   Dtype \n",
            "---  ------             --------------   ----- \n",
            " 0   tokenized reviews  100366 non-null  object\n",
            "dtypes: object(1)\n",
            "memory usage: 784.2+ KB\n"
          ]
        }
      ]
    },
    {
      "cell_type": "code",
      "source": [
        "print(total_token_review[\"tokenized reviews\"][99892])  # 테라리아 리뷰임"
      ],
      "metadata": {
        "colab": {
          "base_uri": "https://localhost:8080/"
        },
        "id": "RBQAiS4hwgbV",
        "outputId": "b306d693-471a-4612-ec28-56745438f788"
      },
      "execution_count": null,
      "outputs": [
        {
          "output_type": "stream",
          "name": "stdout",
          "text": [
            "['한글', '패치', '좀', '해', '줍시다']\n"
          ]
        }
      ]
    },
    {
      "cell_type": "markdown",
      "source": [
        "### 학습셋 테스트셋 분리"
      ],
      "metadata": {
        "id": "xpqzkCubm2oo"
      }
    },
    {
      "cell_type": "code",
      "source": [
        "from sklearn.model_selection import train_test_split\n",
        "\n",
        "train_data, test_data = train_test_split(sample_data, test_size = 0.25, random_state = 42)\n",
        "print('훈련용 리뷰의 개수 :', len(train_data))\n",
        "print('테스트용 리뷰의 개수 :', len(test_data))"
      ],
      "metadata": {
        "colab": {
          "base_uri": "https://localhost:8080/"
        },
        "id": "koSiIvw1rWzc",
        "outputId": "9d6530cf-5601-44bd-dfa0-e23b30590d01"
      },
      "execution_count": null,
      "outputs": [
        {
          "output_type": "stream",
          "name": "stdout",
          "text": [
            "훈련용 리뷰의 개수 : 74919\n",
            "테스트용 리뷰의 개수 : 24973\n"
          ]
        }
      ]
    },
    {
      "cell_type": "code",
      "source": [
        "X_train = train_data['tokenized'].values\n",
        "y_train = train_data['label'].values\n",
        "\n",
        "X_test= test_data['tokenized'].values\n",
        "y_test = test_data['label'].values\n",
        "\n",
        "x_pred = pred_data['tokenized'].values\n",
        "y_pred = pred_data['appid'].values\n",
        "\n",
        "x_total = total_token_review[\"tokenized reviews\"]"
      ],
      "metadata": {
        "id": "j2nDGzVyspaG"
      },
      "execution_count": null,
      "outputs": []
    },
    {
      "cell_type": "markdown",
      "source": [
        "### 토크나이저 생성 및 `fit_on_texts`"
      ],
      "metadata": {
        "id": "_JjWfjRjm9R0"
      }
    },
    {
      "cell_type": "code",
      "source": [
        "# tf.keras.preprocessing.text.Tokenizer\n",
        "# tf.keras.preprocessing.sequence.pad_sequences\n",
        "\n",
        "tokenizer = tf.keras.preprocessing.text.Tokenizer()\n",
        "tokenizer.fit_on_texts(x_total)"
      ],
      "metadata": {
        "id": "B7zDVjRyrXDz"
      },
      "execution_count": null,
      "outputs": []
    },
    {
      "cell_type": "markdown",
      "source": [
        "### 단어 집합 정보 확인"
      ],
      "metadata": {
        "id": "9lVqCjKRnEgW"
      }
    },
    {
      "cell_type": "code",
      "source": [
        "threshold = 2\n",
        "total_cnt = len(tokenizer.word_index)  # 단어의 수\n",
        "rare_cnt = 0  # 등장 빈도수가 threshold보다 작은 단어의 개수를 카운트\n",
        "total_freq = 0  # 훈련 데이터의 전체 단어 빈도수 총 합\n",
        "rare_freq = 0  # 등장 빈도수가 threshold보다 작은 단어의 등장 빈도수의 총 합\n",
        "\n",
        "# 단어와 빈도수의 쌍(pair)을 key와 value로 받는다.\n",
        "for key, value in tokenizer.word_counts.items():\n",
        "    total_freq = total_freq + value\n",
        "\n",
        "    # 단어의 등장 빈도수가 threshold보다 작으면\n",
        "    if(value < threshold):\n",
        "        rare_cnt = rare_cnt + 1\n",
        "        rare_freq = rare_freq + value\n",
        "\n",
        "print('단어 집합(vocabulary)의 크기 :', total_cnt)\n",
        "print(f'등장 빈도가 {threshold - 1}번 이하인 희귀 단어의 수: {rare_cnt}')\n",
        "print(f\"단어 집합에서 희귀 단어의 비율: {(rare_cnt / total_cnt) * 100 :.3f}\")\n",
        "print(f\"전체 등장 빈도에서 희귀 단어 등장 빈도 비율: {(rare_freq / total_freq) * 100 :.3f}\")"
      ],
      "metadata": {
        "colab": {
          "base_uri": "https://localhost:8080/"
        },
        "id": "M45aG3HhvFg2",
        "outputId": "cfb0160c-cb96-4bae-e4bb-5ec1a292afd6"
      },
      "execution_count": null,
      "outputs": [
        {
          "output_type": "stream",
          "name": "stdout",
          "text": [
            "단어 집합(vocabulary)의 크기 : 37582\n",
            "등장 빈도가 1번 이하인 희귀 단어의 수: 15565\n",
            "단어 집합에서 희귀 단어의 비율: 41.416\n",
            "전체 등장 빈도에서 희귀 단어 등장 빈도 비율: 1.008\n"
          ]
        }
      ]
    },
    {
      "cell_type": "code",
      "source": [
        "# 전체 단어 개수 중 빈도수 2이하인 단어 개수는 제거.\n",
        "# 0번 패딩 토큰과 1번 OOV 토큰을 고려하여 +2\n",
        "\n",
        "vocab_size = total_cnt - rare_cnt + 2\n",
        "print('단어 집합의 크기 :',vocab_size)"
      ],
      "metadata": {
        "colab": {
          "base_uri": "https://localhost:8080/"
        },
        "id": "zmlBnG0HxBbf",
        "outputId": "bea7a5dc-f6b9-418e-86ec-3d202ff00172"
      },
      "execution_count": null,
      "outputs": [
        {
          "output_type": "stream",
          "name": "stdout",
          "text": [
            "단어 집합의 크기 : 22019\n"
          ]
        }
      ]
    },
    {
      "cell_type": "markdown",
      "source": [
        ""
      ],
      "metadata": {
        "id": "A7_YVkwxnMZY"
      }
    },
    {
      "cell_type": "markdown",
      "source": [
        "### `texts_to_sequences`"
      ],
      "metadata": {
        "id": "BxmjdE06nOdD"
      }
    },
    {
      "cell_type": "code",
      "source": [
        "# 'OOV' : Out of Vocabulary\n",
        "tokenizer = tf.keras.preprocessing.text.Tokenizer(vocab_size, oov_token = 'OOV')\n",
        "tokenizer.fit_on_texts(x_total)\n",
        "x_total_tts = tokenizer.texts_to_sequences(x_total)\n",
        "X_train_tts = tokenizer.texts_to_sequences(X_train)\n",
        "X_test_tts = tokenizer.texts_to_sequences(X_test)\n",
        "x_pred_tts = tokenizer.texts_to_sequences(x_pred)\n",
        "\n",
        "print(x_pred[0])\n",
        "print(x_pred_tts[0])"
      ],
      "metadata": {
        "colab": {
          "base_uri": "https://localhost:8080/"
        },
        "id": "JWEaue0kx9Hj",
        "outputId": "309408f3-86ce-4f38-8cd9-672ef15a735c"
      },
      "execution_count": null,
      "outputs": [
        {
          "output_type": "stream",
          "name": "stdout",
          "text": [
            "['한글', '패치', '좀', '해', '줍시다']\n",
            "[64, 115, 30, 10, 6568]\n"
          ]
        }
      ]
    },
    {
      "cell_type": "markdown",
      "source": [
        "### 데이터 통계 정보 확인\n",
        "참고 : [\\[Numpy\\] 4. 통계량 구하기](https://zephyrus1111.tistory.com/149)"
      ],
      "metadata": {
        "id": "7idmAEiR4zYT"
      }
    },
    {
      "cell_type": "code",
      "source": [
        "import matplotlib.pyplot as plt\n",
        "\n",
        "review_len = np.array([len(review) for review in x_total_tts])\n",
        "\n",
        "max_len = int(np.quantile(review_len, 0.95)) + 1\n",
        "median_len = int(np.median(review_len))\n",
        "\n",
        "print(f'리뷰의 최대 길이 : {review_len.max()}')\n",
        "print(f'리뷰의 평균 길이 : {review_len.mean() :.3f}')\n",
        "print(f'리뷰 길이 중간값 : {median_len}')\n",
        "print(f'리뷰 길이 상위 95% : {np.quantile(review_len, 0.95)}')\n",
        "\n",
        "plt.hist(review_len, bins=1200)\n",
        "plt.xlabel('length of samples')\n",
        "plt.ylabel('number of samples')\n",
        "plt.xlim(0, 70)\n",
        "plt.show()"
      ],
      "metadata": {
        "colab": {
          "base_uri": "https://localhost:8080/",
          "height": 414
        },
        "id": "mtS0_RuYzoj-",
        "outputId": "f482b586-ee58-48d9-af68-6a3a5426f0e0"
      },
      "execution_count": null,
      "outputs": [
        {
          "output_type": "stream",
          "name": "stdout",
          "text": [
            "리뷰의 최대 길이 : 1119\n",
            "리뷰의 평균 길이 : 15.389\n",
            "리뷰 길이 중간값 : 12\n",
            "리뷰 길이 상위 95% : 39.0\n"
          ]
        },
        {
          "output_type": "display_data",
          "data": {
            "text/plain": [
              "<Figure size 1152x360 with 1 Axes>"
            ],
            "image/png": "[encoded data removed]"
          },
          "metadata": {}
        }
      ]
    },
    {
      "cell_type": "code",
      "source": [
        "def below_threshold_len(max_len, nested_list):\n",
        "    count = 0\n",
        "    for sentence in nested_list:\n",
        "        if(len(sentence) <= max_len):\n",
        "            count = count + 1\n",
        "    print(f'전체 샘플 중 길이가 {max_len} 이하인 샘플의 비율 : {(count / len(nested_list)) * 100 :.3f}')\n",
        "\n",
        "\n",
        "below_threshold_len(max_len, x_total_tts)"
      ],
      "metadata": {
        "colab": {
          "base_uri": "https://localhost:8080/"
        },
        "id": "5Eoz0Ln92KGc",
        "outputId": "cdd99ed0-71ba-40fc-d7e2-42559c41e121"
      },
      "execution_count": null,
      "outputs": [
        {
          "output_type": "stream",
          "name": "stdout",
          "text": [
            "전체 샘플 중 길이가 40 이하인 샘플의 비율 : 96.251\n"
          ]
        }
      ]
    },
    {
      "cell_type": "markdown",
      "source": [
        "### 패딩"
      ],
      "metadata": {
        "id": "OQx0aXh3nZmb"
      }
    },
    {
      "cell_type": "code",
      "source": [
        "x_tt = tf.keras.preprocessing.sequence.pad_sequences(x_total_tts, maxlen=max_len, padding='post')\n",
        "X_tr = tf.keras.preprocessing.sequence.pad_sequences(X_train_tts, maxlen=max_len, padding='post')\n",
        "X_te = tf.keras.preprocessing.sequence.pad_sequences(X_test_tts, maxlen=max_len, padding='post')\n",
        "x_pr = tf.keras.preprocessing.sequence.pad_sequences(x_pred_tts, maxlen=max_len, padding='post')\n",
        "\n",
        "print(x_tt[99892])"
      ],
      "metadata": {
        "colab": {
          "base_uri": "https://localhost:8080/"
        },
        "id": "qL53C5AQ5Gce",
        "outputId": "90b4a788-61a2-4190-8f53-83955b436fdb"
      },
      "execution_count": null,
      "outputs": [
        {
          "output_type": "stream",
          "name": "stdout",
          "text": [
            "[  64  115   30   10 6568    0    0    0    0    0    0    0    0    0\n",
            "    0    0    0    0    0    0    0    0    0    0    0    0    0    0\n",
            "    0    0    0    0    0    0    0    0    0    0    0    0]\n"
          ]
        }
      ]
    },
    {
      "cell_type": "markdown",
      "source": [
        "---\n",
        "## 모델 및 콜백 생성\n",
        "---"
      ],
      "metadata": {
        "id": "S-NZV_yXniNG"
      }
    },
    {
      "cell_type": "markdown",
      "source": [
        "### LSTM 모델"
      ],
      "metadata": {
        "id": "RZFi9NAYnqBK"
      }
    },
    {
      "cell_type": "code",
      "source": [
        "from tensorflow import keras\n",
        "from keras.callbacks import EarlyStopping, ModelCheckpoint\n",
        "\n",
        "MODEL_DIR = '/content/drive/MyDrive/Colab Notebooks/model/'\n",
        "if not os.path.exists(MODEL_DIR):\n",
        "    os.mkdir(MODEL_DIR)\n",
        "\n",
        "modelpath=\"/content/drive/MyDrive/Colab Notebooks/model/steam_review_best_model_LSTM.h5f5\"\n",
        "\n",
        "epoch = 20\n",
        "batch = 5000\n",
        "\n",
        "checkpointer = ModelCheckpoint(filepath=modelpath, monitor='val_accuracy', verbose=1, save_best_only=True)\n",
        "early_stopping_callback = EarlyStopping(monitor='val_loss', patience=max(int(epoch * 0.1), 3))"
      ],
      "metadata": {
        "id": "oA2-Dl3L7qBF"
      },
      "execution_count": null,
      "outputs": []
    },
    {
      "cell_type": "code",
      "source": [
        "from keras.models import Sequential\n",
        "from keras.layers import Dense, Flatten, Embedding, LSTM\n",
        "from keras.layers import Dropout\n",
        "from keras.layers import Conv1D, MaxPooling1D\n",
        "from attention import Attention\n",
        "\n",
        "model = Sequential([\n",
        "    Embedding(vocab_size, input_length=max_len, output_dim=median_len),\n",
        "    Conv1D(64, 4, padding='same', activation='relu', strides=1),\n",
        "    MaxPooling1D(pool_size=2),\n",
        "    Dropout(0.5),\n",
        "    Conv1D(128, 3, padding='same', activation='relu', strides=1),\n",
        "    MaxPooling1D(pool_size=2),\n",
        "    Dropout(0.5),\n",
        "    Conv1D(256, 2, padding='same', activation='relu', strides=1),\n",
        "    MaxPooling1D(pool_size=2),\n",
        "    Dropout(0.5),\n",
        "    LSTM(128, return_sequences=True),\n",
        "    Attention(),\n",
        "    Dense(64, activation='relu'),\n",
        "    Dense(1, activation='sigmoid')\n",
        "])\n",
        "\n",
        "model.compile(loss='binary_crossentropy', optimizer='adam', metrics=['accuracy'])"
      ],
      "metadata": {
        "id": "htVavBGv6b-L"
      },
      "execution_count": null,
      "outputs": []
    },
    {
      "cell_type": "code",
      "source": [
        "history = model.fit(X_tr, y_train, validation_split=0.2, epochs=epoch, batch_size=batch, verbose=1, callbacks=[checkpointer, early_stopping_callback])"
      ],
      "metadata": {
        "colab": {
          "base_uri": "https://localhost:8080/"
        },
        "id": "2EW-zVCB7lIS",
        "outputId": "59b850ed-c54b-4b53-9e51-26eef701cc58"
      },
      "execution_count": null,
      "outputs": [
        {
          "output_type": "stream",
          "name": "stdout",
          "text": [
            "Epoch 1/20\n",
            "12/12 [==============================] - ETA: 0s - loss: 0.6927 - accuracy: 0.5105\n",
            "Epoch 1: val_accuracy improved from -inf to 0.54992, saving model to /content/drive/MyDrive/Colab Notebooks/model/steam_review_best_model_LSTM.h5f5\n"
          ]
        },
        {
          "output_type": "stream",
          "name": "stderr",
          "text": [
            "WARNING:absl:Found untraced functions such as lstm_cell_46_layer_call_fn, lstm_cell_46_layer_call_and_return_conditional_losses, attention_score_vec_layer_call_fn, attention_score_vec_layer_call_and_return_conditional_losses, last_hidden_state_layer_call_fn while saving (showing 5 of 16). These functions will not be directly callable after loading.\n"
          ]
        },
        {
          "output_type": "stream",
          "name": "stdout",
          "text": [
            "INFO:tensorflow:Assets written to: /content/drive/MyDrive/Colab Notebooks/model/steam_review_best_model_LSTM.h5f5/assets\n"
          ]
        },
        {
          "output_type": "stream",
          "name": "stderr",
          "text": [
            "INFO:tensorflow:Assets written to: /content/drive/MyDrive/Colab Notebooks/model/steam_review_best_model_LSTM.h5f5/assets\n",
            "WARNING:absl:<attention.attention.Attention object at 0x7f305e6219d0> has the same name 'Attention' as a built-in Keras object. Consider renaming <class 'attention.attention.Attention'> to avoid naming conflicts when loading with `tf.keras.models.load_model`. If renaming is not possible, pass the object in the `custom_objects` parameter of the load function.\n",
            "WARNING:absl:<keras.layers.recurrent.LSTMCell object at 0x7f305e621c10> has the same name 'LSTMCell' as a built-in Keras object. Consider renaming <class 'keras.layers.recurrent.LSTMCell'> to avoid naming conflicts when loading with `tf.keras.models.load_model`. If renaming is not possible, pass the object in the `custom_objects` parameter of the load function.\n"
          ]
        },
        {
          "output_type": "stream",
          "name": "stdout",
          "text": [
            "\b\b\b\b\b\b\b\b\b\b\b\b\b\b\b\b\b\b\b\b\b\b\b\b\b\b\b\b\b\b\b\b\b\b\b\b\b\b\b\b\b\b\b\b\b\b\b\b\b\b\b\b\b\b\b\b\b\b\b\b\b\b\b\b\b\b\b\b\b\b\b\b\b\b\b\b\b\b\b\b\b\b\r12/12 [==============================] - 35s 3s/step - loss: 0.6927 - accuracy: 0.5105 - val_loss: 0.6899 - val_accuracy: 0.5499\n",
            "Epoch 2/20\n",
            "12/12 [==============================] - ETA: 0s - loss: 0.6742 - accuracy: 0.5721\n",
            "Epoch 2: val_accuracy improved from 0.54992 to 0.63541, saving model to /content/drive/MyDrive/Colab Notebooks/model/steam_review_best_model_LSTM.h5f5\n"
          ]
        },
        {
          "output_type": "stream",
          "name": "stderr",
          "text": [
            "WARNING:absl:Found untraced functions such as lstm_cell_46_layer_call_fn, lstm_cell_46_layer_call_and_return_conditional_losses, attention_score_vec_layer_call_fn, attention_score_vec_layer_call_and_return_conditional_losses, last_hidden_state_layer_call_fn while saving (showing 5 of 16). These functions will not be directly callable after loading.\n"
          ]
        },
        {
          "output_type": "stream",
          "name": "stdout",
          "text": [
            "INFO:tensorflow:Assets written to: /content/drive/MyDrive/Colab Notebooks/model/steam_review_best_model_LSTM.h5f5/assets\n"
          ]
        },
        {
          "output_type": "stream",
          "name": "stderr",
          "text": [
            "INFO:tensorflow:Assets written to: /content/drive/MyDrive/Colab Notebooks/model/steam_review_best_model_LSTM.h5f5/assets\n",
            "WARNING:absl:<attention.attention.Attention object at 0x7f305e6219d0> has the same name 'Attention' as a built-in Keras object. Consider renaming <class 'attention.attention.Attention'> to avoid naming conflicts when loading with `tf.keras.models.load_model`. If renaming is not possible, pass the object in the `custom_objects` parameter of the load function.\n",
            "WARNING:absl:<keras.layers.recurrent.LSTMCell object at 0x7f305e621c10> has the same name 'LSTMCell' as a built-in Keras object. Consider renaming <class 'keras.layers.recurrent.LSTMCell'> to avoid naming conflicts when loading with `tf.keras.models.load_model`. If renaming is not possible, pass the object in the `custom_objects` parameter of the load function.\n"
          ]
        },
        {
          "output_type": "stream",
          "name": "stdout",
          "text": [
            "\b\b\b\b\b\b\b\b\b\b\b\b\b\b\b\b\b\b\b\b\b\b\b\b\b\b\b\b\b\b\b\b\b\b\b\b\b\b\b\b\b\b\b\b\b\b\b\b\b\b\b\b\b\b\b\b\b\b\b\b\b\b\b\b\b\b\b\b\b\b\b\b\b\b\b\b\b\b\b\b\b\b\r12/12 [==============================] - 31s 3s/step - loss: 0.6742 - accuracy: 0.5721 - val_loss: 0.6368 - val_accuracy: 0.6354\n",
            "Epoch 3/20\n",
            "12/12 [==============================] - ETA: 0s - loss: 0.5884 - accuracy: 0.6951\n",
            "Epoch 3: val_accuracy improved from 0.63541 to 0.69040, saving model to /content/drive/MyDrive/Colab Notebooks/model/steam_review_best_model_LSTM.h5f5\n"
          ]
        },
        {
          "output_type": "stream",
          "name": "stderr",
          "text": [
            "WARNING:absl:Found untraced functions such as lstm_cell_46_layer_call_fn, lstm_cell_46_layer_call_and_return_conditional_losses, attention_score_vec_layer_call_fn, attention_score_vec_layer_call_and_return_conditional_losses, last_hidden_state_layer_call_fn while saving (showing 5 of 16). These functions will not be directly callable after loading.\n"
          ]
        },
        {
          "output_type": "stream",
          "name": "stdout",
          "text": [
            "INFO:tensorflow:Assets written to: /content/drive/MyDrive/Colab Notebooks/model/steam_review_best_model_LSTM.h5f5/assets\n"
          ]
        },
        {
          "output_type": "stream",
          "name": "stderr",
          "text": [
            "INFO:tensorflow:Assets written to: /content/drive/MyDrive/Colab Notebooks/model/steam_review_best_model_LSTM.h5f5/assets\n",
            "WARNING:absl:<attention.attention.Attention object at 0x7f305e6219d0> has the same name 'Attention' as a built-in Keras object. Consider renaming <class 'attention.attention.Attention'> to avoid naming conflicts when loading with `tf.keras.models.load_model`. If renaming is not possible, pass the object in the `custom_objects` parameter of the load function.\n",
            "WARNING:absl:<keras.layers.recurrent.LSTMCell object at 0x7f305e621c10> has the same name 'LSTMCell' as a built-in Keras object. Consider renaming <class 'keras.layers.recurrent.LSTMCell'> to avoid naming conflicts when loading with `tf.keras.models.load_model`. If renaming is not possible, pass the object in the `custom_objects` parameter of the load function.\n"
          ]
        },
        {
          "output_type": "stream",
          "name": "stdout",
          "text": [
            "\b\b\b\b\b\b\b\b\b\b\b\b\b\b\b\b\b\b\b\b\b\b\b\b\b\b\b\b\b\b\b\b\b\b\b\b\b\b\b\b\b\b\b\b\b\b\b\b\b\b\b\b\b\b\b\b\b\b\b\b\b\b\b\b\b\b\b\b\b\b\b\b\b\b\b\b\b\b\b\b\b\b\r12/12 [==============================] - 32s 3s/step - loss: 0.5884 - accuracy: 0.6951 - val_loss: 0.5874 - val_accuracy: 0.6904\n",
            "Epoch 4/20\n",
            "12/12 [==============================] - ETA: 0s - loss: 0.5072 - accuracy: 0.7591\n",
            "Epoch 4: val_accuracy improved from 0.69040 to 0.74826, saving model to /content/drive/MyDrive/Colab Notebooks/model/steam_review_best_model_LSTM.h5f5\n"
          ]
        },
        {
          "output_type": "stream",
          "name": "stderr",
          "text": [
            "WARNING:absl:Found untraced functions such as lstm_cell_46_layer_call_fn, lstm_cell_46_layer_call_and_return_conditional_losses, attention_score_vec_layer_call_fn, attention_score_vec_layer_call_and_return_conditional_losses, last_hidden_state_layer_call_fn while saving (showing 5 of 16). These functions will not be directly callable after loading.\n"
          ]
        },
        {
          "output_type": "stream",
          "name": "stdout",
          "text": [
            "INFO:tensorflow:Assets written to: /content/drive/MyDrive/Colab Notebooks/model/steam_review_best_model_LSTM.h5f5/assets\n"
          ]
        },
        {
          "output_type": "stream",
          "name": "stderr",
          "text": [
            "INFO:tensorflow:Assets written to: /content/drive/MyDrive/Colab Notebooks/model/steam_review_best_model_LSTM.h5f5/assets\n",
            "WARNING:absl:<attention.attention.Attention object at 0x7f305e6219d0> has the same name 'Attention' as a built-in Keras object. Consider renaming <class 'attention.attention.Attention'> to avoid naming conflicts when loading with `tf.keras.models.load_model`. If renaming is not possible, pass the object in the `custom_objects` parameter of the load function.\n",
            "WARNING:absl:<keras.layers.recurrent.LSTMCell object at 0x7f305e621c10> has the same name 'LSTMCell' as a built-in Keras object. Consider renaming <class 'keras.layers.recurrent.LSTMCell'> to avoid naming conflicts when loading with `tf.keras.models.load_model`. If renaming is not possible, pass the object in the `custom_objects` parameter of the load function.\n"
          ]
        },
        {
          "output_type": "stream",
          "name": "stdout",
          "text": [
            "\b\b\b\b\b\b\b\b\b\b\b\b\b\b\b\b\b\b\b\b\b\b\b\b\b\b\b\b\b\b\b\b\b\b\b\b\b\b\b\b\b\b\b\b\b\b\b\b\b\b\b\b\b\b\b\b\b\b\b\b\b\b\b\b\b\b\b\b\b\b\b\b\b\b\b\b\b\b\b\b\b\b\r12/12 [==============================] - 31s 3s/step - loss: 0.5072 - accuracy: 0.7591 - val_loss: 0.5233 - val_accuracy: 0.7483\n",
            "Epoch 5/20\n",
            "12/12 [==============================] - ETA: 0s - loss: 0.4586 - accuracy: 0.7909\n",
            "Epoch 5: val_accuracy improved from 0.74826 to 0.75360, saving model to /content/drive/MyDrive/Colab Notebooks/model/steam_review_best_model_LSTM.h5f5\n"
          ]
        },
        {
          "output_type": "stream",
          "name": "stderr",
          "text": [
            "WARNING:absl:Found untraced functions such as lstm_cell_46_layer_call_fn, lstm_cell_46_layer_call_and_return_conditional_losses, attention_score_vec_layer_call_fn, attention_score_vec_layer_call_and_return_conditional_losses, last_hidden_state_layer_call_fn while saving (showing 5 of 16). These functions will not be directly callable after loading.\n"
          ]
        },
        {
          "output_type": "stream",
          "name": "stdout",
          "text": [
            "INFO:tensorflow:Assets written to: /content/drive/MyDrive/Colab Notebooks/model/steam_review_best_model_LSTM.h5f5/assets\n"
          ]
        },
        {
          "output_type": "stream",
          "name": "stderr",
          "text": [
            "INFO:tensorflow:Assets written to: /content/drive/MyDrive/Colab Notebooks/model/steam_review_best_model_LSTM.h5f5/assets\n",
            "WARNING:absl:<attention.attention.Attention object at 0x7f305e6219d0> has the same name 'Attention' as a built-in Keras object. Consider renaming <class 'attention.attention.Attention'> to avoid naming conflicts when loading with `tf.keras.models.load_model`. If renaming is not possible, pass the object in the `custom_objects` parameter of the load function.\n",
            "WARNING:absl:<keras.layers.recurrent.LSTMCell object at 0x7f305e621c10> has the same name 'LSTMCell' as a built-in Keras object. Consider renaming <class 'keras.layers.recurrent.LSTMCell'> to avoid naming conflicts when loading with `tf.keras.models.load_model`. If renaming is not possible, pass the object in the `custom_objects` parameter of the load function.\n"
          ]
        },
        {
          "output_type": "stream",
          "name": "stdout",
          "text": [
            "\b\b\b\b\b\b\b\b\b\b\b\b\b\b\b\b\b\b\b\b\b\b\b\b\b\b\b\b\b\b\b\b\b\b\b\b\b\b\b\b\b\b\b\b\b\b\b\b\b\b\b\b\b\b\b\b\b\b\b\b\b\b\b\b\b\b\b\b\b\b\b\b\b\b\b\b\b\b\b\b\b\b\r12/12 [==============================] - 32s 3s/step - loss: 0.4586 - accuracy: 0.7909 - val_loss: 0.5203 - val_accuracy: 0.7536\n",
            "Epoch 6/20\n",
            "12/12 [==============================] - ETA: 0s - loss: 0.4210 - accuracy: 0.8137\n",
            "Epoch 6: val_accuracy improved from 0.75360 to 0.76662, saving model to /content/drive/MyDrive/Colab Notebooks/model/steam_review_best_model_LSTM.h5f5\n"
          ]
        },
        {
          "output_type": "stream",
          "name": "stderr",
          "text": [
            "WARNING:absl:Found untraced functions such as lstm_cell_46_layer_call_fn, lstm_cell_46_layer_call_and_return_conditional_losses, attention_score_vec_layer_call_fn, attention_score_vec_layer_call_and_return_conditional_losses, last_hidden_state_layer_call_fn while saving (showing 5 of 16). These functions will not be directly callable after loading.\n"
          ]
        },
        {
          "output_type": "stream",
          "name": "stdout",
          "text": [
            "INFO:tensorflow:Assets written to: /content/drive/MyDrive/Colab Notebooks/model/steam_review_best_model_LSTM.h5f5/assets\n"
          ]
        },
        {
          "output_type": "stream",
          "name": "stderr",
          "text": [
            "INFO:tensorflow:Assets written to: /content/drive/MyDrive/Colab Notebooks/model/steam_review_best_model_LSTM.h5f5/assets\n",
            "WARNING:absl:<attention.attention.Attention object at 0x7f305e6219d0> has the same name 'Attention' as a built-in Keras object. Consider renaming <class 'attention.attention.Attention'> to avoid naming conflicts when loading with `tf.keras.models.load_model`. If renaming is not possible, pass the object in the `custom_objects` parameter of the load function.\n",
            "WARNING:absl:<keras.layers.recurrent.LSTMCell object at 0x7f305e621c10> has the same name 'LSTMCell' as a built-in Keras object. Consider renaming <class 'keras.layers.recurrent.LSTMCell'> to avoid naming conflicts when loading with `tf.keras.models.load_model`. If renaming is not possible, pass the object in the `custom_objects` parameter of the load function.\n"
          ]
        },
        {
          "output_type": "stream",
          "name": "stdout",
          "text": [
            "\b\b\b\b\b\b\b\b\b\b\b\b\b\b\b\b\b\b\b\b\b\b\b\b\b\b\b\b\b\b\b\b\b\b\b\b\b\b\b\b\b\b\b\b\b\b\b\b\b\b\b\b\b\b\b\b\b\b\b\b\b\b\b\b\b\b\b\b\b\b\b\b\b\b\b\b\b\b\b\b\b\b\r12/12 [==============================] - 34s 3s/step - loss: 0.4210 - accuracy: 0.8137 - val_loss: 0.5065 - val_accuracy: 0.7666\n",
            "Epoch 7/20\n",
            "12/12 [==============================] - ETA: 0s - loss: 0.3936 - accuracy: 0.8299\n",
            "Epoch 7: val_accuracy did not improve from 0.76662\n",
            "12/12 [==============================] - 26s 2s/step - loss: 0.3936 - accuracy: 0.8299 - val_loss: 0.5125 - val_accuracy: 0.7653\n",
            "Epoch 8/20\n",
            "12/12 [==============================] - ETA: 0s - loss: 0.3693 - accuracy: 0.8434\n",
            "Epoch 8: val_accuracy improved from 0.76662 to 0.76682, saving model to /content/drive/MyDrive/Colab Notebooks/model/steam_review_best_model_LSTM.h5f5\n"
          ]
        },
        {
          "output_type": "stream",
          "name": "stderr",
          "text": [
            "WARNING:absl:Found untraced functions such as lstm_cell_46_layer_call_fn, lstm_cell_46_layer_call_and_return_conditional_losses, attention_score_vec_layer_call_fn, attention_score_vec_layer_call_and_return_conditional_losses, last_hidden_state_layer_call_fn while saving (showing 5 of 16). These functions will not be directly callable after loading.\n"
          ]
        },
        {
          "output_type": "stream",
          "name": "stdout",
          "text": [
            "INFO:tensorflow:Assets written to: /content/drive/MyDrive/Colab Notebooks/model/steam_review_best_model_LSTM.h5f5/assets\n"
          ]
        },
        {
          "output_type": "stream",
          "name": "stderr",
          "text": [
            "INFO:tensorflow:Assets written to: /content/drive/MyDrive/Colab Notebooks/model/steam_review_best_model_LSTM.h5f5/assets\n",
            "WARNING:absl:<attention.attention.Attention object at 0x7f305e6219d0> has the same name 'Attention' as a built-in Keras object. Consider renaming <class 'attention.attention.Attention'> to avoid naming conflicts when loading with `tf.keras.models.load_model`. If renaming is not possible, pass the object in the `custom_objects` parameter of the load function.\n",
            "WARNING:absl:<keras.layers.recurrent.LSTMCell object at 0x7f305e621c10> has the same name 'LSTMCell' as a built-in Keras object. Consider renaming <class 'keras.layers.recurrent.LSTMCell'> to avoid naming conflicts when loading with `tf.keras.models.load_model`. If renaming is not possible, pass the object in the `custom_objects` parameter of the load function.\n"
          ]
        },
        {
          "output_type": "stream",
          "name": "stdout",
          "text": [
            "\b\b\b\b\b\b\b\b\b\b\b\b\b\b\b\b\b\b\b\b\b\b\b\b\b\b\b\b\b\b\b\b\b\b\b\b\b\b\b\b\b\b\b\b\b\b\b\b\b\b\b\b\b\b\b\b\b\b\b\b\b\b\b\b\b\b\b\b\b\b\b\b\b\b\b\b\b\b\b\b\b\b\r12/12 [==============================] - 32s 3s/step - loss: 0.3693 - accuracy: 0.8434 - val_loss: 0.5036 - val_accuracy: 0.7668\n",
            "Epoch 9/20\n",
            "12/12 [==============================] - ETA: 0s - loss: 0.3481 - accuracy: 0.8547\n",
            "Epoch 9: val_accuracy did not improve from 0.76682\n",
            "12/12 [==============================] - 26s 2s/step - loss: 0.3481 - accuracy: 0.8547 - val_loss: 0.5178 - val_accuracy: 0.7647\n",
            "Epoch 10/20\n",
            "12/12 [==============================] - ETA: 0s - loss: 0.3282 - accuracy: 0.8652\n",
            "Epoch 10: val_accuracy did not improve from 0.76682\n",
            "12/12 [==============================] - 25s 2s/step - loss: 0.3282 - accuracy: 0.8652 - val_loss: 0.5344 - val_accuracy: 0.7629\n",
            "Epoch 11/20\n",
            "12/12 [==============================] - ETA: 0s - loss: 0.3114 - accuracy: 0.8741\n",
            "Epoch 11: val_accuracy did not improve from 0.76682\n",
            "12/12 [==============================] - 26s 2s/step - loss: 0.3114 - accuracy: 0.8741 - val_loss: 0.5602 - val_accuracy: 0.7616\n"
          ]
        }
      ]
    },
    {
      "cell_type": "code",
      "source": [
        "model.summary()"
      ],
      "metadata": {
        "colab": {
          "base_uri": "https://localhost:8080/"
        },
        "id": "gTLdR8Z6APLt",
        "outputId": "b5fdcb54-7e0f-4a0c-e4ef-fc945d2361fd"
      },
      "execution_count": null,
      "outputs": [
        {
          "output_type": "stream",
          "name": "stdout",
          "text": [
            "Model: \"sequential_17\"\n",
            "_________________________________________________________________\n",
            " Layer (type)                Output Shape              Param #   \n",
            "=================================================================\n",
            " embedding_17 (Embedding)    (None, 40, 12)            264228    \n",
            "                                                                 \n",
            " conv1d_48 (Conv1D)          (None, 40, 64)            3136      \n",
            "                                                                 \n",
            " max_pooling1d_48 (MaxPoolin  (None, 20, 64)           0         \n",
            " g1D)                                                            \n",
            "                                                                 \n",
            " dropout_50 (Dropout)        (None, 20, 64)            0         \n",
            "                                                                 \n",
            " conv1d_49 (Conv1D)          (None, 20, 128)           24704     \n",
            "                                                                 \n",
            " max_pooling1d_49 (MaxPoolin  (None, 10, 128)          0         \n",
            " g1D)                                                            \n",
            "                                                                 \n",
            " dropout_51 (Dropout)        (None, 10, 128)           0         \n",
            "                                                                 \n",
            " conv1d_50 (Conv1D)          (None, 10, 256)           65792     \n",
            "                                                                 \n",
            " max_pooling1d_50 (MaxPoolin  (None, 5, 256)           0         \n",
            " g1D)                                                            \n",
            "                                                                 \n",
            " dropout_52 (Dropout)        (None, 5, 256)            0         \n",
            "                                                                 \n",
            " lstm_17 (LSTM)              (None, 5, 128)            197120    \n",
            "                                                                 \n",
            " attention_17 (Attention)    (None, 128)               49152     \n",
            "                                                                 \n",
            " dense_33 (Dense)            (None, 64)                8256      \n",
            "                                                                 \n",
            " dense_34 (Dense)            (None, 1)                 65        \n",
            "                                                                 \n",
            "=================================================================\n",
            "Total params: 612,453\n",
            "Trainable params: 612,453\n",
            "Non-trainable params: 0\n",
            "_________________________________________________________________\n"
          ]
        }
      ]
    },
    {
      "cell_type": "markdown",
      "source": [
        "### BiLSTM 모델"
      ],
      "metadata": {
        "id": "ZrC1g2MGnt4p"
      }
    },
    {
      "cell_type": "code",
      "source": [
        "from tensorflow import keras\n",
        "from keras.callbacks import EarlyStopping, ModelCheckpoint\n",
        "\n",
        "MODEL_DIR = '/content/drive/MyDrive/Colab Notebooks/model/'\n",
        "if not os.path.exists(MODEL_DIR):\n",
        "    os.mkdir(MODEL_DIR)\n",
        "\n",
        "modelpath_bi = \"/content/drive/MyDrive/Colab Notebooks/model/steam_review_best_model_BiLSTM.h5\"\n",
        "\n",
        "epoch = 20\n",
        "batch = 5000\n",
        "\n",
        "checkpointer_bi = ModelCheckpoint(filepath=modelpath_bi, monitor='val_accuracy', verbose=1, save_best_only=True)\n",
        "early_stopping_callback_bi = EarlyStopping(monitor='val_loss', patience=max(int(epoch * 0.1), 3))\n",
        "\n",
        "from keras.models import Sequential\n",
        "from keras.layers import Dense, Flatten, Embedding, LSTM, Bidirectional\n",
        "from keras.layers import Dropout\n",
        "from keras.layers import Conv1D, MaxPooling1D\n",
        "from attention import Attention\n",
        "\n",
        "model_bi = Sequential([\n",
        "    Embedding(vocab_size, input_length=max_len, output_dim=median_len),\n",
        "    Conv1D(64, 5, padding='same', activation='relu', strides=1),\n",
        "    MaxPooling1D(pool_size=2),\n",
        "    Dropout(0.5),\n",
        "    Conv1D(128, 3, padding='same', activation='relu', strides=1),\n",
        "    MaxPooling1D(pool_size=2),\n",
        "    Dropout(0.5),\n",
        "    Conv1D(64, 2, padding='same', activation='relu', strides=2),\n",
        "    MaxPooling1D(pool_size=2),\n",
        "    Dropout(0.5),\n",
        "    Bidirectional(LSTM(128, return_sequences=True)),\n",
        "    Attention(),\n",
        "    Dense(32, activation='relu'),\n",
        "    Dense(1, activation='sigmoid')\n",
        "])\n",
        "\n",
        "model_bi.compile(loss='binary_crossentropy', optimizer='rmsprop', metrics=['accuracy'])"
      ],
      "metadata": {
        "id": "XdSoWNJYSvll"
      },
      "execution_count": null,
      "outputs": []
    },
    {
      "cell_type": "code",
      "source": [
        "# history_bi = model_bi.fit(X_tr, y_train, validation_split=0.2, epochs=epoch, batch_size=batch, verbose=1, callbacks=[checkpointer_bi, early_stopping_callback_bi])"
      ],
      "metadata": {
        "id": "3w7HxjThshhf"
      },
      "execution_count": null,
      "outputs": []
    },
    {
      "cell_type": "code",
      "source": [
        "model_bi.summary()"
      ],
      "metadata": {
        "colab": {
          "base_uri": "https://localhost:8080/"
        },
        "id": "s0p_Q2xDTYFc",
        "outputId": "3de7ae56-c1f1-4359-8d04-ae040af27fd0"
      },
      "execution_count": null,
      "outputs": [
        {
          "output_type": "stream",
          "name": "stdout",
          "text": [
            "Model: \"sequential_18\"\n",
            "_________________________________________________________________\n",
            " Layer (type)                Output Shape              Param #   \n",
            "=================================================================\n",
            " embedding_18 (Embedding)    (None, 40, 12)            264228    \n",
            "                                                                 \n",
            " conv1d_51 (Conv1D)          (None, 40, 64)            3904      \n",
            "                                                                 \n",
            " max_pooling1d_51 (MaxPoolin  (None, 20, 64)           0         \n",
            " g1D)                                                            \n",
            "                                                                 \n",
            " dropout_53 (Dropout)        (None, 20, 64)            0         \n",
            "                                                                 \n",
            " conv1d_52 (Conv1D)          (None, 20, 128)           24704     \n",
            "                                                                 \n",
            " max_pooling1d_52 (MaxPoolin  (None, 10, 128)          0         \n",
            " g1D)                                                            \n",
            "                                                                 \n",
            " dropout_54 (Dropout)        (None, 10, 128)           0         \n",
            "                                                                 \n",
            " conv1d_53 (Conv1D)          (None, 5, 64)             16448     \n",
            "                                                                 \n",
            " max_pooling1d_53 (MaxPoolin  (None, 2, 64)            0         \n",
            " g1D)                                                            \n",
            "                                                                 \n",
            " dropout_55 (Dropout)        (None, 2, 64)             0         \n",
            "                                                                 \n",
            " bidirectional_7 (Bidirectio  (None, 2, 256)           197632    \n",
            " nal)                                                            \n",
            "                                                                 \n",
            " attention_18 (Attention)    (None, 128)               131072    \n",
            "                                                                 \n",
            " dense_35 (Dense)            (None, 32)                4128      \n",
            "                                                                 \n",
            " dense_36 (Dense)            (None, 1)                 33        \n",
            "                                                                 \n",
            "=================================================================\n",
            "Total params: 642,149\n",
            "Trainable params: 642,149\n",
            "Non-trainable params: 0\n",
            "_________________________________________________________________\n"
          ]
        }
      ]
    },
    {
      "cell_type": "markdown",
      "source": [
        "---\n",
        "## 성능 평가\n",
        "---\n",
        "참고 : [Keras 모델 load시 Unknown layer, 외부 라이브러리 해결 방법](https://kaen2891.tistory.com/34)"
      ],
      "metadata": {
        "id": "tr6NH7K9nxio"
      }
    },
    {
      "cell_type": "code",
      "source": [
        "import matplotlib.pyplot as plt\n",
        "import seaborn as sns\n",
        "from keras.models import load_model\n",
        "from attention import Attention\n",
        "\n",
        "def load_and_evaluate_model(model_path, model_history, x_tr, y_tr, x_te, y_te):\n",
        "    model = load_model(model_path, custom_objects={'Attention': Attention, \"LSTM\": LSTM})\n",
        "    val_loss, val_acc = model.evaluate(x_tr, y_tr)\n",
        "    \n",
        "    print(\"evaluate model\")\n",
        "    print(f\"loss : {val_loss :.4f}\\naccuracy : {val_acc :.4f}\")\n",
        "\n",
        "    sns.set(rc={'figure.figsize':(16, 5)})\n",
        "    sns.set_style(\"ticks\")\n",
        "\n",
        "    loss = model_history.history[\"loss\"]\n",
        "    acc = model_history.history[\"accuracy\"]\n",
        "    val_loss = model_history.history[\"val_loss\"]\n",
        "    val_acc = model_history.history[\"val_accuracy\"]\n",
        "    x_len = range(1, len(loss) + 1)  # epoch\n",
        "\n",
        "    plt.plot(x_len, loss,  c=\"blue\", marker='.', label='loss')\n",
        "    plt.plot(x_len, val_loss, c=\"magenta\", marker='.', label='val_loss')\n",
        "    plt.legend(loc='upper right')\n",
        "    plt.grid()\n",
        "    plt.xlabel('epoch', fontdict={\"fontsize\":15})\n",
        "    plt.ylabel('loss', fontdict={\"fontsize\":15})\n",
        "    plt.title('loss', fontdict={\"fontsize\":20})\n",
        "    plt.show()\n",
        "\n",
        "    plt.plot(x_len, acc, c=\"blue\", marker='.', label='acc')\n",
        "    plt.plot(x_len, val_acc, c=\"magenta\", marker='.', label='val_acc')\n",
        "    plt.legend(loc='upper right')\n",
        "    plt.grid()\n",
        "    plt.xlabel('epoch', fontdict={\"fontsize\":15})\n",
        "    plt.ylabel('accuracy', fontdict={\"fontsize\":15})\n",
        "    plt.title('accuracy', fontdict={\"fontsize\":20})\n",
        "    plt.show()"
      ],
      "metadata": {
        "id": "ztmuugkx8bmh"
      },
      "execution_count": null,
      "outputs": []
    },
    {
      "cell_type": "markdown",
      "source": [
        "### LSTM 모델"
      ],
      "metadata": {
        "id": "xLp6X9QLnzuB"
      }
    },
    {
      "cell_type": "code",
      "source": [
        "load_and_evaluate_model(modelpath, history, X_tr, y_train, X_te, y_test)"
      ],
      "metadata": {
        "colab": {
          "base_uri": "https://localhost:8080/",
          "height": 782
        },
        "id": "TB7d3h4Q8gZV",
        "outputId": "a0524687-cdd5-4108-f8d3-8fd1cdbdabcf"
      },
      "execution_count": null,
      "outputs": [
        {
          "output_type": "stream",
          "name": "stdout",
          "text": [
            "2342/2342 [==============================] - 19s 8ms/step - loss: 0.3717 - accuracy: 0.8454\n",
            "evaluate model\n",
            "loss : 0.3717\n",
            "accuracy : 0.8454\n"
          ]
        },
        {
          "output_type": "display_data",
          "data": {
            "text/plain": [
              "<Figure size 1152x360 with 1 Axes>"
            ],
            "image/png": "[encoded data removed]"
          },
          "metadata": {}
        },
        {
          "output_type": "display_data",
          "data": {
            "text/plain": [
              "<Figure size 1152x360 with 1 Axes>"
            ],
            "image/png": "[encoded data removed]"
          },
          "metadata": {}
        }
      ]
    },
    {
      "cell_type": "markdown",
      "source": [
        "### BiLSTM 모델"
      ],
      "metadata": {
        "id": "DVuOuOLwn2iq"
      }
    },
    {
      "cell_type": "code",
      "source": [
        "# load_and_evaluate_model(modelpath_bi, history_bi, X_tr, y_train, X_te, y_test)"
      ],
      "metadata": {
        "id": "9C-vslfVT9du"
      },
      "execution_count": null,
      "outputs": []
    },
    {
      "cell_type": "markdown",
      "source": [
        "---\n",
        "## 스팀 리뷰 데이터에 적용, 처리 후 파일 생성\n",
        "---"
      ],
      "metadata": {
        "id": "jqMgq-1Cn5vI"
      }
    },
    {
      "cell_type": "code",
      "source": [
        "from keras.models import load_model\n",
        "\n",
        "model = load_model(\"/content/drive/MyDrive/Colab Notebooks/model/steam_review_best_model_LSTM.hdf5\", custom_objects={'Attention': Attention, \"LSTM\": LSTM})\n",
        "\n",
        "print(\"\\nmaking processed data...\")\n",
        "pred_data = pd.read_csv(\"/content/drive/MyDrive/Colab Notebooks/processed_gameWReview.csv\")\n",
        "pred_data[\"is review positive\"] = model.predict(x_pr)\n",
        "\n",
        "drop_attribute = [\"Unnamed: 0\", \"Unnamed: 0.1\", \"review\"]\n",
        "pred_data.drop(drop_attribute, axis=1, inplace=True)\n",
        "\n",
        "print(\"making processed data complete\\n\")\n",
        "pred_data.to_csv(\"/content/drive/MyDrive/Colab Notebooks/steam_game_prediction.csv\", index=False)\n",
        "print(pred_data.info(), end='\\n\\n')\n",
        "print(pred_data.head(5))"
      ],
      "metadata": {
        "colab": {
          "base_uri": "https://localhost:8080/"
        },
        "id": "gpC0YSCHc_Jj",
        "outputId": "0d29c691-6ca5-474d-8130-3277d8a046f8"
      },
      "execution_count": null,
      "outputs": [
        {
          "output_type": "stream",
          "name": "stdout",
          "text": [
            "\n",
            "making processed data...\n",
            "making processed data complete\n",
            "\n",
            "<class 'pandas.core.frame.DataFrame'>\n",
            "RangeIndex: 474 entries, 0 to 473\n",
            "Data columns (total 21 columns):\n",
            " #   Column              Non-Null Count  Dtype  \n",
            "---  ------              --------------  -----  \n",
            " 0   appid               474 non-null    int64  \n",
            " 1   releaseDate         474 non-null    object \n",
            " 2   price               474 non-null    float64\n",
            " 3   developer tier      474 non-null    float64\n",
            " 4   publisher tier      474 non-null    float64\n",
            " 5   genre               464 non-null    object \n",
            " 6   early access        474 non-null    float64\n",
            " 7   achievement         474 non-null    float64\n",
            " 8   tag                 474 non-null    object \n",
            " 9   languages           474 non-null    float64\n",
            " 10  steam award         474 non-null    float64\n",
            " 11  DLC                 474 non-null    float64\n",
            " 12  recent positive     349 non-null    object \n",
            " 13  all positive        138 non-null    object \n",
            " 14  single or multi     452 non-null    object \n",
            " 15  positive review     474 non-null    float64\n",
            " 16  negative review     474 non-null    float64\n",
            " 17  recent player       340 non-null    float64\n",
            " 18  peek player         340 non-null    float64\n",
            " 19  most achieved rate  325 non-null    float64\n",
            " 20  is review positive  474 non-null    float32\n",
            "dtypes: float32(1), float64(13), int64(1), object(6)\n",
            "memory usage: 76.0+ KB\n",
            "None\n",
            "\n",
            "    appid releaseDate    price  developer tier  publisher tier   genre  \\\n",
            "0  105600  2011-05-16  10500.0             2.0             2.0  Action   \n",
            "1  105700  2011-07-19   1100.0             6.0             6.0  Action   \n",
            "2  105800  2012-02-03  32000.0             5.0             5.0  Action   \n",
            "3  107100  2011-08-17  15500.0             2.0             2.0  Action   \n",
            "4  107200  2011-08-16  10500.0             6.0             6.0  Action   \n",
            "\n",
            "   early access  achievement                        tag  languages  ...  DLC  \\\n",
            "0           0.0        104.0  Open World Survival Craft        9.0  ...  1.0   \n",
            "1           0.0         13.0                      Indie        1.0  ...  0.0   \n",
            "2           0.0         61.0                      Indie       10.0  ...  1.0   \n",
            "3           0.0         24.0           Great Soundtrack        6.0  ...  1.0   \n",
            "4           0.0         48.0                      Space        1.0  ...  0.0   \n",
            "\n",
            "           recent positive             all positive   single or multi  \\\n",
            "0  Overwhelmingly Positive  Overwhelmingly Positive  single and multi   \n",
            "1          Mostly Positive                      NaN       single only   \n",
            "2            Very Positive                      NaN       single only   \n",
            "3            Very Positive  Overwhelmingly Positive       single only   \n",
            "4            Very Positive                      NaN       single only   \n",
            "\n",
            "  positive review  negative review  recent player  peek player  \\\n",
            "0        954769.0          20730.0        31842.8     486918.0   \n",
            "1            78.0             51.0            NaN          NaN   \n",
            "2           596.0            150.0            NaN          NaN   \n",
            "3         33399.0           1533.0           36.1       4063.0   \n",
            "4          2654.0            249.0           16.3       3595.0   \n",
            "\n",
            "   most achieved rate  is review positive  \n",
            "0                85.9            0.848045  \n",
            "1                 8.2            0.170770  \n",
            "2                79.8            0.954323  \n",
            "3                83.9            0.856648  \n",
            "4                53.8            0.967456  \n",
            "\n",
            "[5 rows x 21 columns]\n"
          ]
        }
      ]
    },
    {
      "cell_type": "markdown",
      "source": [
        "### 처리된 파일 확인"
      ],
      "metadata": {
        "id": "vSPVj2uUn_84"
      }
    },
    {
      "cell_type": "code",
      "source": [
        "result = pd.read_csv(\"/content/drive/MyDrive/Colab Notebooks/steam_game_prediction.csv\")\n",
        "result.info()"
      ],
      "metadata": {
        "colab": {
          "base_uri": "https://localhost:8080/"
        },
        "id": "YKCQiFTTjDUj",
        "outputId": "7530bce3-6aa0-4991-82f6-7567b0bcb512"
      },
      "execution_count": null,
      "outputs": [
        {
          "output_type": "stream",
          "name": "stdout",
          "text": [
            "<class 'pandas.core.frame.DataFrame'>\n",
            "RangeIndex: 474 entries, 0 to 473\n",
            "Data columns (total 21 columns):\n",
            " #   Column              Non-Null Count  Dtype  \n",
            "---  ------              --------------  -----  \n",
            " 0   appid               474 non-null    int64  \n",
            " 1   releaseDate         474 non-null    object \n",
            " 2   price               474 non-null    float64\n",
            " 3   developer tier      474 non-null    float64\n",
            " 4   publisher tier      474 non-null    float64\n",
            " 5   genre               464 non-null    object \n",
            " 6   early access        474 non-null    float64\n",
            " 7   achievement         474 non-null    float64\n",
            " 8   tag                 474 non-null    object \n",
            " 9   languages           474 non-null    float64\n",
            " 10  steam award         474 non-null    float64\n",
            " 11  DLC                 474 non-null    float64\n",
            " 12  recent positive     349 non-null    object \n",
            " 13  all positive        138 non-null    object \n",
            " 14  single or multi     452 non-null    object \n",
            " 15  positive review     474 non-null    float64\n",
            " 16  negative review     474 non-null    float64\n",
            " 17  recent player       340 non-null    float64\n",
            " 18  peek player         340 non-null    float64\n",
            " 19  most achieved rate  325 non-null    float64\n",
            " 20  is review positive  474 non-null    float64\n",
            "dtypes: float64(14), int64(1), object(6)\n",
            "memory usage: 77.9+ KB\n"
          ]
        }
      ]
    }
  ]
}